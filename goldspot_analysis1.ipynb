{
 "cells": [
  {
   "cell_type": "code",
   "execution_count": 5,
   "metadata": {},
   "outputs": [],
   "source": [
    "import datetime\n",
    "import quandl\n",
    "import pandas as pd\n",
    "import numpy as np\n",
    "import matplotlib.pyplot as plt\n",
    "from api_quandl import api"
   ]
  },
  {
   "cell_type": "code",
   "execution_count": 9,
   "metadata": {},
   "outputs": [],
   "source": [
    "gold_data = quandl.get('LBMA/GOLD', \n",
    "                       start_date='1999-06-01', \n",
    "                       end_date='2019-06-01',\n",
    "                       paginate=True)"
   ]
  },
  {
   "cell_type": "code",
   "execution_count": 13,
   "metadata": {},
   "outputs": [
    {
     "data": {
      "text/html": [
       "<div>\n",
       "<style scoped>\n",
       "    .dataframe tbody tr th:only-of-type {\n",
       "        vertical-align: middle;\n",
       "    }\n",
       "\n",
       "    .dataframe tbody tr th {\n",
       "        vertical-align: top;\n",
       "    }\n",
       "\n",
       "    .dataframe thead th {\n",
       "        text-align: right;\n",
       "    }\n",
       "</style>\n",
       "<table border=\"1\" class=\"dataframe\">\n",
       "  <thead>\n",
       "    <tr style=\"text-align: right;\">\n",
       "      <th></th>\n",
       "      <th>USD (AM)</th>\n",
       "      <th>USD (PM)</th>\n",
       "      <th>GBP (AM)</th>\n",
       "      <th>GBP (PM)</th>\n",
       "      <th>EURO (AM)</th>\n",
       "      <th>EURO (PM)</th>\n",
       "    </tr>\n",
       "    <tr>\n",
       "      <th>Date</th>\n",
       "      <th></th>\n",
       "      <th></th>\n",
       "      <th></th>\n",
       "      <th></th>\n",
       "      <th></th>\n",
       "      <th></th>\n",
       "    </tr>\n",
       "  </thead>\n",
       "  <tbody>\n",
       "    <tr>\n",
       "      <th>1999-06-01</th>\n",
       "      <td>265.50</td>\n",
       "      <td>266.85</td>\n",
       "      <td>165.627</td>\n",
       "      <td>165.921</td>\n",
       "      <td>254.603</td>\n",
       "      <td>254.968</td>\n",
       "    </tr>\n",
       "    <tr>\n",
       "      <th>1999-06-02</th>\n",
       "      <td>267.05</td>\n",
       "      <td>267.15</td>\n",
       "      <td>166.004</td>\n",
       "      <td>165.911</td>\n",
       "      <td>257.571</td>\n",
       "      <td>257.571</td>\n",
       "    </tr>\n",
       "    <tr>\n",
       "      <th>1999-06-03</th>\n",
       "      <td>263.85</td>\n",
       "      <td>264.75</td>\n",
       "      <td>164.290</td>\n",
       "      <td>164.697</td>\n",
       "      <td>254.313</td>\n",
       "      <td>254.714</td>\n",
       "    </tr>\n",
       "    <tr>\n",
       "      <th>1999-06-04</th>\n",
       "      <td>266.50</td>\n",
       "      <td>265.30</td>\n",
       "      <td>165.579</td>\n",
       "      <td>165.162</td>\n",
       "      <td>258.312</td>\n",
       "      <td>257.673</td>\n",
       "    </tr>\n",
       "    <tr>\n",
       "      <th>1999-06-07</th>\n",
       "      <td>266.35</td>\n",
       "      <td>265.60</td>\n",
       "      <td>165.744</td>\n",
       "      <td>165.452</td>\n",
       "      <td>258.592</td>\n",
       "      <td>258.240</td>\n",
       "    </tr>\n",
       "  </tbody>\n",
       "</table>\n",
       "</div>"
      ],
      "text/plain": [
       "            USD (AM)  USD (PM)  GBP (AM)  GBP (PM)  EURO (AM)  EURO (PM)\n",
       "Date                                                                    \n",
       "1999-06-01    265.50    266.85   165.627   165.921    254.603    254.968\n",
       "1999-06-02    267.05    267.15   166.004   165.911    257.571    257.571\n",
       "1999-06-03    263.85    264.75   164.290   164.697    254.313    254.714\n",
       "1999-06-04    266.50    265.30   165.579   165.162    258.312    257.673\n",
       "1999-06-07    266.35    265.60   165.744   165.452    258.592    258.240"
      ]
     },
     "execution_count": 13,
     "metadata": {},
     "output_type": "execute_result"
    }
   ],
   "source": [
    "gold_data.head()"
   ]
  },
  {
   "cell_type": "code",
   "execution_count": 14,
   "metadata": {},
   "outputs": [
    {
     "data": {
      "text/plain": [
       "Index(['USD (AM)', 'USD (PM)', 'GBP (AM)', 'GBP (PM)', 'EURO (AM)',\n",
       "       'EURO (PM)'],\n",
       "      dtype='object')"
      ]
     },
     "execution_count": 14,
     "metadata": {},
     "output_type": "execute_result"
    }
   ],
   "source": [
    "gold_data.columns"
   ]
  },
  {
   "cell_type": "code",
   "execution_count": 16,
   "metadata": {},
   "outputs": [],
   "source": [
    "gold_data = gold_data[['USD (AM)', 'USD (PM)']]"
   ]
  },
  {
   "cell_type": "code",
   "execution_count": 17,
   "metadata": {},
   "outputs": [
    {
     "data": {
      "image/png": "[encoded data removed]",
      "text/plain": [
       "<matplotlib.figure.Figure at 0x108a84748>"
      ]
     },
     "metadata": {},
     "output_type": "display_data"
    }
   ],
   "source": [
    "plt.plot(gold_data)\n",
    "plt.show()"
   ]
  },
  {
   "cell_type": "code",
   "execution_count": 18,
   "metadata": {
    "collapsed": true
   },
   "outputs": [],
   "source": [
    "gold_data = quandl.get('BUNDESBANK/BBK01_WT5511', \n",
    "                       start_date='1999-06-01', \n",
    "                       end_date='2019-06-01',\n",
    "                       paginate=True)"
   ]
  },
  {
   "cell_type": "code",
   "execution_count": 19,
   "metadata": {},
   "outputs": [
    {
     "data": {
      "image/png": "[encoded data removed]",
      "text/plain": [
       "<matplotlib.figure.Figure at 0x108ca5860>"
      ]
     },
     "metadata": {},
     "output_type": "display_data"
    }
   ],
   "source": [
    "plt.plot(gold_data)\n",
    "plt.show()"
   ]
  },
  {
   "cell_type": "code",
   "execution_count": null,
   "metadata": {
    "collapsed": true
   },
   "outputs": [],
   "source": []
  }
 ],
 "metadata": {
  "kernelspec": {
   "display_name": "Python [default]",
   "language": "python",
   "name": "python3"
  },
  "language_info": {
   "codemirror_mode": {
    "name": "ipython",
    "version": 3
   },
   "file_extension": ".py",
   "mimetype": "text/x-python",
   "name": "python",
   "nbconvert_exporter": "python",
   "pygments_lexer": "ipython3",
   "version": "3.6.4"
  }
 },
 "nbformat": 4,
 "nbformat_minor": 2
}

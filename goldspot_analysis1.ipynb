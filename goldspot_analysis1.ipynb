{
 "cells": [
  {
   "cell_type": "markdown",
   "metadata": {},
   "source": [
    "# Goldspot Discoveries Analysis"
   ]
  },
  {
   "cell_type": "code",
   "execution_count": 115,
   "metadata": {
    "collapsed": true
   },
   "outputs": [],
   "source": [
    "#Usual imports needed\n",
    "import datetime\n",
    "import quandl\n",
    "import pandas as pd\n",
    "import numpy as np\n",
    "import matplotlib.pyplot as plt\n",
    "from api_quandl import api"
   ]
  },
  {
   "cell_type": "markdown",
   "metadata": {},
   "source": [
    "### Gold Price dataset"
   ]
  },
  {
   "cell_type": "code",
   "execution_count": 116,
   "metadata": {
    "collapsed": true
   },
   "outputs": [],
   "source": [
    "#Pulled from www.quandl.com/data/LBMA/GOLD-Gold-Price-London-Fixing\n",
    "gold_data = quandl.get('LBMA/GOLD', \n",
    "                       start_date='1999-06-01', \n",
    "                       end_date='2019-06-01',\n",
    "                       paginate=True)"
   ]
  },
  {
   "cell_type": "code",
   "execution_count": 117,
   "metadata": {},
   "outputs": [
    {
     "data": {
      "text/html": [
       "<div>\n",
       "<style scoped>\n",
       "    .dataframe tbody tr th:only-of-type {\n",
       "        vertical-align: middle;\n",
       "    }\n",
       "\n",
       "    .dataframe tbody tr th {\n",
       "        vertical-align: top;\n",
       "    }\n",
       "\n",
       "    .dataframe thead th {\n",
       "        text-align: right;\n",
       "    }\n",
       "</style>\n",
       "<table border=\"1\" class=\"dataframe\">\n",
       "  <thead>\n",
       "    <tr style=\"text-align: right;\">\n",
       "      <th></th>\n",
       "      <th>USD (AM)</th>\n",
       "      <th>USD (PM)</th>\n",
       "      <th>GBP (AM)</th>\n",
       "      <th>GBP (PM)</th>\n",
       "      <th>EURO (AM)</th>\n",
       "      <th>EURO (PM)</th>\n",
       "    </tr>\n",
       "    <tr>\n",
       "      <th>Date</th>\n",
       "      <th></th>\n",
       "      <th></th>\n",
       "      <th></th>\n",
       "      <th></th>\n",
       "      <th></th>\n",
       "      <th></th>\n",
       "    </tr>\n",
       "  </thead>\n",
       "  <tbody>\n",
       "    <tr>\n",
       "      <th>2019-05-24</th>\n",
       "      <td>1281.50</td>\n",
       "      <td>1282.50</td>\n",
       "      <td>1011.36</td>\n",
       "      <td>1011.89</td>\n",
       "      <td>1145.92</td>\n",
       "      <td>1145.40</td>\n",
       "    </tr>\n",
       "    <tr>\n",
       "      <th>2019-05-28</th>\n",
       "      <td>1283.90</td>\n",
       "      <td>1278.30</td>\n",
       "      <td>1012.87</td>\n",
       "      <td>1008.20</td>\n",
       "      <td>1146.91</td>\n",
       "      <td>1142.29</td>\n",
       "    </tr>\n",
       "    <tr>\n",
       "      <th>2019-05-29</th>\n",
       "      <td>1283.50</td>\n",
       "      <td>1281.65</td>\n",
       "      <td>1016.02</td>\n",
       "      <td>1013.27</td>\n",
       "      <td>1151.04</td>\n",
       "      <td>1150.67</td>\n",
       "    </tr>\n",
       "    <tr>\n",
       "      <th>2019-05-30</th>\n",
       "      <td>1276.45</td>\n",
       "      <td>1280.95</td>\n",
       "      <td>1010.44</td>\n",
       "      <td>1015.92</td>\n",
       "      <td>1146.25</td>\n",
       "      <td>1151.70</td>\n",
       "    </tr>\n",
       "    <tr>\n",
       "      <th>2019-05-31</th>\n",
       "      <td>1296.00</td>\n",
       "      <td>1295.55</td>\n",
       "      <td>1029.28</td>\n",
       "      <td>1028.80</td>\n",
       "      <td>1162.12</td>\n",
       "      <td>1161.07</td>\n",
       "    </tr>\n",
       "  </tbody>\n",
       "</table>\n",
       "</div>"
      ],
      "text/plain": [
       "            USD (AM)  USD (PM)  GBP (AM)  GBP (PM)  EURO (AM)  EURO (PM)\n",
       "Date                                                                    \n",
       "2019-05-24   1281.50   1282.50   1011.36   1011.89    1145.92    1145.40\n",
       "2019-05-28   1283.90   1278.30   1012.87   1008.20    1146.91    1142.29\n",
       "2019-05-29   1283.50   1281.65   1016.02   1013.27    1151.04    1150.67\n",
       "2019-05-30   1276.45   1280.95   1010.44   1015.92    1146.25    1151.70\n",
       "2019-05-31   1296.00   1295.55   1029.28   1028.80    1162.12    1161.07"
      ]
     },
     "execution_count": 117,
     "metadata": {},
     "output_type": "execute_result"
    }
   ],
   "source": [
    "gold_data.tail()"
   ]
  },
  {
   "cell_type": "code",
   "execution_count": 118,
   "metadata": {},
   "outputs": [
    {
     "data": {
      "text/html": [
       "<div>\n",
       "<style scoped>\n",
       "    .dataframe tbody tr th:only-of-type {\n",
       "        vertical-align: middle;\n",
       "    }\n",
       "\n",
       "    .dataframe tbody tr th {\n",
       "        vertical-align: top;\n",
       "    }\n",
       "\n",
       "    .dataframe thead th {\n",
       "        text-align: right;\n",
       "    }\n",
       "</style>\n",
       "<table border=\"1\" class=\"dataframe\">\n",
       "  <thead>\n",
       "    <tr style=\"text-align: right;\">\n",
       "      <th></th>\n",
       "      <th>gold_price</th>\n",
       "    </tr>\n",
       "    <tr>\n",
       "      <th>Date</th>\n",
       "      <th></th>\n",
       "    </tr>\n",
       "  </thead>\n",
       "  <tbody>\n",
       "    <tr>\n",
       "      <th>1999-06-01</th>\n",
       "      <td>266.85</td>\n",
       "    </tr>\n",
       "    <tr>\n",
       "      <th>1999-06-02</th>\n",
       "      <td>267.15</td>\n",
       "    </tr>\n",
       "    <tr>\n",
       "      <th>1999-06-03</th>\n",
       "      <td>264.75</td>\n",
       "    </tr>\n",
       "    <tr>\n",
       "      <th>1999-06-04</th>\n",
       "      <td>265.30</td>\n",
       "    </tr>\n",
       "    <tr>\n",
       "      <th>1999-06-07</th>\n",
       "      <td>265.60</td>\n",
       "    </tr>\n",
       "  </tbody>\n",
       "</table>\n",
       "</div>"
      ],
      "text/plain": [
       "            gold_price\n",
       "Date                  \n",
       "1999-06-01      266.85\n",
       "1999-06-02      267.15\n",
       "1999-06-03      264.75\n",
       "1999-06-04      265.30\n",
       "1999-06-07      265.60"
      ]
     },
     "execution_count": 118,
     "metadata": {},
     "output_type": "execute_result"
    }
   ],
   "source": [
    "#Limit data to just end of data price of gold for US\n",
    "gold_data = gold_data[['USD (PM)']]\n",
    "gold_data.rename(columns={'USD (PM)': 'gold_price'}, inplace=True)\n",
    "gold_data.head()"
   ]
  },
  {
   "cell_type": "code",
   "execution_count": 119,
   "metadata": {},
   "outputs": [
    {
     "data": {
      "image/png": "[encoded data removed]",
      "text/plain": [
       "<matplotlib.figure.Figure at 0x1122039b0>"
      ]
     },
     "metadata": {},
     "output_type": "display_data"
    }
   ],
   "source": [
    "plt.plot(gold_data)\n",
    "plt.show()"
   ]
  },
  {
   "cell_type": "markdown",
   "metadata": {},
   "source": [
    "### GDP dataset"
   ]
  },
  {
   "cell_type": "code",
   "execution_count": 120,
   "metadata": {
    "collapsed": true
   },
   "outputs": [],
   "source": [
    "#Pulled from www.quandl.com/data/FRED/GDP-Gross-Domestic-Product\n",
    "gdp_data = quandl.get('FRED/GDP', \n",
    "                       start_date='1999-06-01', \n",
    "                       end_date='2019-06-01',\n",
    "                       paginate=True)"
   ]
  },
  {
   "cell_type": "code",
   "execution_count": 121,
   "metadata": {},
   "outputs": [
    {
     "data": {
      "text/html": [
       "<div>\n",
       "<style scoped>\n",
       "    .dataframe tbody tr th:only-of-type {\n",
       "        vertical-align: middle;\n",
       "    }\n",
       "\n",
       "    .dataframe tbody tr th {\n",
       "        vertical-align: top;\n",
       "    }\n",
       "\n",
       "    .dataframe thead th {\n",
       "        text-align: right;\n",
       "    }\n",
       "</style>\n",
       "<table border=\"1\" class=\"dataframe\">\n",
       "  <thead>\n",
       "    <tr style=\"text-align: right;\">\n",
       "      <th></th>\n",
       "      <th>Value</th>\n",
       "    </tr>\n",
       "    <tr>\n",
       "      <th>Date</th>\n",
       "      <th></th>\n",
       "    </tr>\n",
       "  </thead>\n",
       "  <tbody>\n",
       "    <tr>\n",
       "      <th>1999-07-01</th>\n",
       "      <td>9681.856</td>\n",
       "    </tr>\n",
       "    <tr>\n",
       "      <th>1999-10-01</th>\n",
       "      <td>9899.378</td>\n",
       "    </tr>\n",
       "    <tr>\n",
       "      <th>2000-01-01</th>\n",
       "      <td>10002.857</td>\n",
       "    </tr>\n",
       "    <tr>\n",
       "      <th>2000-04-01</th>\n",
       "      <td>10247.679</td>\n",
       "    </tr>\n",
       "    <tr>\n",
       "      <th>2000-07-01</th>\n",
       "      <td>10319.825</td>\n",
       "    </tr>\n",
       "  </tbody>\n",
       "</table>\n",
       "</div>"
      ],
      "text/plain": [
       "                Value\n",
       "Date                 \n",
       "1999-07-01   9681.856\n",
       "1999-10-01   9899.378\n",
       "2000-01-01  10002.857\n",
       "2000-04-01  10247.679\n",
       "2000-07-01  10319.825"
      ]
     },
     "execution_count": 121,
     "metadata": {},
     "output_type": "execute_result"
    }
   ],
   "source": [
    "gdp_data.head()"
   ]
  },
  {
   "cell_type": "code",
   "execution_count": 122,
   "metadata": {},
   "outputs": [
    {
     "data": {
      "text/html": [
       "<div>\n",
       "<style scoped>\n",
       "    .dataframe tbody tr th:only-of-type {\n",
       "        vertical-align: middle;\n",
       "    }\n",
       "\n",
       "    .dataframe tbody tr th {\n",
       "        vertical-align: top;\n",
       "    }\n",
       "\n",
       "    .dataframe thead th {\n",
       "        text-align: right;\n",
       "    }\n",
       "</style>\n",
       "<table border=\"1\" class=\"dataframe\">\n",
       "  <thead>\n",
       "    <tr style=\"text-align: right;\">\n",
       "      <th></th>\n",
       "      <th>gdp</th>\n",
       "    </tr>\n",
       "    <tr>\n",
       "      <th>Date</th>\n",
       "      <th></th>\n",
       "    </tr>\n",
       "  </thead>\n",
       "  <tbody>\n",
       "    <tr>\n",
       "      <th>1999-07-01</th>\n",
       "      <td>9681.856</td>\n",
       "    </tr>\n",
       "    <tr>\n",
       "      <th>1999-10-01</th>\n",
       "      <td>9899.378</td>\n",
       "    </tr>\n",
       "    <tr>\n",
       "      <th>2000-01-01</th>\n",
       "      <td>10002.857</td>\n",
       "    </tr>\n",
       "    <tr>\n",
       "      <th>2000-04-01</th>\n",
       "      <td>10247.679</td>\n",
       "    </tr>\n",
       "    <tr>\n",
       "      <th>2000-07-01</th>\n",
       "      <td>10319.825</td>\n",
       "    </tr>\n",
       "  </tbody>\n",
       "</table>\n",
       "</div>"
      ],
      "text/plain": [
       "                  gdp\n",
       "Date                 \n",
       "1999-07-01   9681.856\n",
       "1999-10-01   9899.378\n",
       "2000-01-01  10002.857\n",
       "2000-04-01  10247.679\n",
       "2000-07-01  10319.825"
      ]
     },
     "execution_count": 122,
     "metadata": {},
     "output_type": "execute_result"
    }
   ],
   "source": [
    "gdp_data.rename(columns={'Value': 'gdp'}, inplace=True)\n",
    "gdp_data.head()"
   ]
  },
  {
   "cell_type": "code",
   "execution_count": 123,
   "metadata": {},
   "outputs": [
    {
     "data": {
      "image/png": "[encoded data removed]",
      "text/plain": [
       "<matplotlib.figure.Figure at 0x1118302e8>"
      ]
     },
     "metadata": {},
     "output_type": "display_data"
    }
   ],
   "source": [
    "plt.plot(gdp_data)\n",
    "plt.show()"
   ]
  },
  {
   "cell_type": "markdown",
   "metadata": {},
   "source": [
    "### Unemployment dataset"
   ]
  },
  {
   "cell_type": "code",
   "execution_count": 124,
   "metadata": {
    "collapsed": true
   },
   "outputs": [],
   "source": [
    "#Pulled from: www.quandl.com/data/USMISERY/INDEX-United-States-Misery-Index\n",
    "unemploy_data = quandl.get('USMISERY/INDEX', \n",
    "                       start_date='1999-06-01', \n",
    "                       end_date='2019-06-01',\n",
    "                       paginate=True)"
   ]
  },
  {
   "cell_type": "code",
   "execution_count": 125,
   "metadata": {},
   "outputs": [
    {
     "data": {
      "text/plain": [
       "Index(['Unemployment Rate', 'Inflation Rate', 'Misery Index'], dtype='object')"
      ]
     },
     "execution_count": 125,
     "metadata": {},
     "output_type": "execute_result"
    }
   ],
   "source": [
    "unemploy_data.columns"
   ]
  },
  {
   "cell_type": "code",
   "execution_count": 126,
   "metadata": {},
   "outputs": [
    {
     "data": {
      "text/html": [
       "<div>\n",
       "<style scoped>\n",
       "    .dataframe tbody tr th:only-of-type {\n",
       "        vertical-align: middle;\n",
       "    }\n",
       "\n",
       "    .dataframe tbody tr th {\n",
       "        vertical-align: top;\n",
       "    }\n",
       "\n",
       "    .dataframe thead th {\n",
       "        text-align: right;\n",
       "    }\n",
       "</style>\n",
       "<table border=\"1\" class=\"dataframe\">\n",
       "  <thead>\n",
       "    <tr style=\"text-align: right;\">\n",
       "      <th></th>\n",
       "      <th>Unemployment Rate</th>\n",
       "      <th>Inflation Rate</th>\n",
       "      <th>Misery Index</th>\n",
       "    </tr>\n",
       "    <tr>\n",
       "      <th>Date</th>\n",
       "      <th></th>\n",
       "      <th></th>\n",
       "      <th></th>\n",
       "    </tr>\n",
       "  </thead>\n",
       "  <tbody>\n",
       "    <tr>\n",
       "      <th>2018-12-31</th>\n",
       "      <td>3.9</td>\n",
       "      <td>1.91</td>\n",
       "      <td>5.81</td>\n",
       "    </tr>\n",
       "    <tr>\n",
       "      <th>2019-01-31</th>\n",
       "      <td>4.0</td>\n",
       "      <td>1.55</td>\n",
       "      <td>5.55</td>\n",
       "    </tr>\n",
       "    <tr>\n",
       "      <th>2019-02-28</th>\n",
       "      <td>3.8</td>\n",
       "      <td>1.52</td>\n",
       "      <td>5.32</td>\n",
       "    </tr>\n",
       "    <tr>\n",
       "      <th>2019-03-31</th>\n",
       "      <td>3.8</td>\n",
       "      <td>1.86</td>\n",
       "      <td>5.66</td>\n",
       "    </tr>\n",
       "    <tr>\n",
       "      <th>2019-04-30</th>\n",
       "      <td>3.6</td>\n",
       "      <td>2.00</td>\n",
       "      <td>5.60</td>\n",
       "    </tr>\n",
       "  </tbody>\n",
       "</table>\n",
       "</div>"
      ],
      "text/plain": [
       "            Unemployment Rate  Inflation Rate  Misery Index\n",
       "Date                                                       \n",
       "2018-12-31                3.9            1.91          5.81\n",
       "2019-01-31                4.0            1.55          5.55\n",
       "2019-02-28                3.8            1.52          5.32\n",
       "2019-03-31                3.8            1.86          5.66\n",
       "2019-04-30                3.6            2.00          5.60"
      ]
     },
     "execution_count": 126,
     "metadata": {},
     "output_type": "execute_result"
    }
   ],
   "source": [
    "unemploy_data.tail()"
   ]
  },
  {
   "cell_type": "code",
   "execution_count": 127,
   "metadata": {},
   "outputs": [
    {
     "data": {
      "text/html": [
       "<div>\n",
       "<style scoped>\n",
       "    .dataframe tbody tr th:only-of-type {\n",
       "        vertical-align: middle;\n",
       "    }\n",
       "\n",
       "    .dataframe tbody tr th {\n",
       "        vertical-align: top;\n",
       "    }\n",
       "\n",
       "    .dataframe thead th {\n",
       "        text-align: right;\n",
       "    }\n",
       "</style>\n",
       "<table border=\"1\" class=\"dataframe\">\n",
       "  <thead>\n",
       "    <tr style=\"text-align: right;\">\n",
       "      <th></th>\n",
       "      <th>unemploy_rate</th>\n",
       "      <th>Inflation Rate</th>\n",
       "      <th>Misery Index</th>\n",
       "    </tr>\n",
       "    <tr>\n",
       "      <th>Date</th>\n",
       "      <th></th>\n",
       "      <th></th>\n",
       "      <th></th>\n",
       "    </tr>\n",
       "  </thead>\n",
       "  <tbody>\n",
       "    <tr>\n",
       "      <th>1999-06-30</th>\n",
       "      <td>4.3</td>\n",
       "      <td>1.96</td>\n",
       "      <td>6.26</td>\n",
       "    </tr>\n",
       "    <tr>\n",
       "      <th>1999-07-31</th>\n",
       "      <td>4.3</td>\n",
       "      <td>2.14</td>\n",
       "      <td>6.44</td>\n",
       "    </tr>\n",
       "    <tr>\n",
       "      <th>1999-08-31</th>\n",
       "      <td>4.2</td>\n",
       "      <td>2.26</td>\n",
       "      <td>6.46</td>\n",
       "    </tr>\n",
       "    <tr>\n",
       "      <th>1999-09-30</th>\n",
       "      <td>4.2</td>\n",
       "      <td>2.63</td>\n",
       "      <td>6.83</td>\n",
       "    </tr>\n",
       "    <tr>\n",
       "      <th>1999-10-31</th>\n",
       "      <td>4.1</td>\n",
       "      <td>2.56</td>\n",
       "      <td>6.66</td>\n",
       "    </tr>\n",
       "  </tbody>\n",
       "</table>\n",
       "</div>"
      ],
      "text/plain": [
       "            unemploy_rate  Inflation Rate  Misery Index\n",
       "Date                                                   \n",
       "1999-06-30            4.3            1.96          6.26\n",
       "1999-07-31            4.3            2.14          6.44\n",
       "1999-08-31            4.2            2.26          6.46\n",
       "1999-09-30            4.2            2.63          6.83\n",
       "1999-10-31            4.1            2.56          6.66"
      ]
     },
     "execution_count": 127,
     "metadata": {},
     "output_type": "execute_result"
    }
   ],
   "source": [
    "unemploy_data.rename(columns={'Unemployment Rate': 'unemploy_rate'}, inplace=True)\n",
    "unemploy_data.head()"
   ]
  },
  {
   "cell_type": "code",
   "execution_count": 128,
   "metadata": {},
   "outputs": [
    {
     "data": {
      "image/png": "[encoded data removed]",
      "text/plain": [
       "<matplotlib.figure.Figure at 0x112225e10>"
      ]
     },
     "metadata": {},
     "output_type": "display_data"
    }
   ],
   "source": [
    "plt.plot(unemploy_data)\n",
    "plt.show()"
   ]
  },
  {
   "cell_type": "code",
   "execution_count": 129,
   "metadata": {},
   "outputs": [
    {
     "data": {
      "text/html": [
       "<div>\n",
       "<style scoped>\n",
       "    .dataframe tbody tr th:only-of-type {\n",
       "        vertical-align: middle;\n",
       "    }\n",
       "\n",
       "    .dataframe tbody tr th {\n",
       "        vertical-align: top;\n",
       "    }\n",
       "\n",
       "    .dataframe thead th {\n",
       "        text-align: right;\n",
       "    }\n",
       "</style>\n",
       "<table border=\"1\" class=\"dataframe\">\n",
       "  <thead>\n",
       "    <tr style=\"text-align: right;\">\n",
       "      <th></th>\n",
       "      <th>unemploy_rate</th>\n",
       "    </tr>\n",
       "    <tr>\n",
       "      <th>Date</th>\n",
       "      <th></th>\n",
       "    </tr>\n",
       "  </thead>\n",
       "  <tbody>\n",
       "    <tr>\n",
       "      <th>1999-06-30</th>\n",
       "      <td>4.3</td>\n",
       "    </tr>\n",
       "    <tr>\n",
       "      <th>1999-07-31</th>\n",
       "      <td>4.3</td>\n",
       "    </tr>\n",
       "    <tr>\n",
       "      <th>1999-08-31</th>\n",
       "      <td>4.2</td>\n",
       "    </tr>\n",
       "    <tr>\n",
       "      <th>1999-09-30</th>\n",
       "      <td>4.2</td>\n",
       "    </tr>\n",
       "    <tr>\n",
       "      <th>1999-10-31</th>\n",
       "      <td>4.1</td>\n",
       "    </tr>\n",
       "  </tbody>\n",
       "</table>\n",
       "</div>"
      ],
      "text/plain": [
       "            unemploy_rate\n",
       "Date                     \n",
       "1999-06-30            4.3\n",
       "1999-07-31            4.3\n",
       "1999-08-31            4.2\n",
       "1999-09-30            4.2\n",
       "1999-10-31            4.1"
      ]
     },
     "execution_count": 129,
     "metadata": {},
     "output_type": "execute_result"
    }
   ],
   "source": [
    "#Isolate only the unmployment rate number\n",
    "unemploy_data = unemploy_data[['unemploy_rate']]\n",
    "unemploy_data.head()"
   ]
  },
  {
   "cell_type": "code",
   "execution_count": 130,
   "metadata": {},
   "outputs": [
    {
     "data": {
      "image/png": "[encoded data removed]",
      "text/plain": [
       "<matplotlib.figure.Figure at 0x1117f8780>"
      ]
     },
     "metadata": {},
     "output_type": "display_data"
    }
   ],
   "source": [
    "plt.plot(unemploy_data)\n",
    "plt.show()"
   ]
  },
  {
   "cell_type": "markdown",
   "metadata": {},
   "source": [
    "### Oil Price dataset"
   ]
  },
  {
   "cell_type": "code",
   "execution_count": 131,
   "metadata": {
    "collapsed": true
   },
   "outputs": [],
   "source": [
    "#Pulled from: www.quandl.com/data/OPEC/ORB-OPEC-Crude-Oil-Price\n",
    "oil_data = quandl.get('OPEC/ORB', \n",
    "                       start_date='1999-06-01', \n",
    "                       end_date='2019-06-01',\n",
    "                       paginate=True)"
   ]
  },
  {
   "cell_type": "code",
   "execution_count": 132,
   "metadata": {},
   "outputs": [
    {
     "data": {
      "text/html": [
       "<div>\n",
       "<style scoped>\n",
       "    .dataframe tbody tr th:only-of-type {\n",
       "        vertical-align: middle;\n",
       "    }\n",
       "\n",
       "    .dataframe tbody tr th {\n",
       "        vertical-align: top;\n",
       "    }\n",
       "\n",
       "    .dataframe thead th {\n",
       "        text-align: right;\n",
       "    }\n",
       "</style>\n",
       "<table border=\"1\" class=\"dataframe\">\n",
       "  <thead>\n",
       "    <tr style=\"text-align: right;\">\n",
       "      <th></th>\n",
       "      <th>Value</th>\n",
       "    </tr>\n",
       "    <tr>\n",
       "      <th>Date</th>\n",
       "      <th></th>\n",
       "    </tr>\n",
       "  </thead>\n",
       "  <tbody>\n",
       "    <tr>\n",
       "      <th>2003-01-02</th>\n",
       "      <td>30.05</td>\n",
       "    </tr>\n",
       "    <tr>\n",
       "      <th>2003-01-03</th>\n",
       "      <td>30.83</td>\n",
       "    </tr>\n",
       "    <tr>\n",
       "      <th>2003-01-06</th>\n",
       "      <td>30.71</td>\n",
       "    </tr>\n",
       "    <tr>\n",
       "      <th>2003-01-07</th>\n",
       "      <td>29.72</td>\n",
       "    </tr>\n",
       "    <tr>\n",
       "      <th>2003-01-08</th>\n",
       "      <td>28.86</td>\n",
       "    </tr>\n",
       "  </tbody>\n",
       "</table>\n",
       "</div>"
      ],
      "text/plain": [
       "            Value\n",
       "Date             \n",
       "2003-01-02  30.05\n",
       "2003-01-03  30.83\n",
       "2003-01-06  30.71\n",
       "2003-01-07  29.72\n",
       "2003-01-08  28.86"
      ]
     },
     "execution_count": 132,
     "metadata": {},
     "output_type": "execute_result"
    }
   ],
   "source": [
    "oil_data.head()"
   ]
  },
  {
   "cell_type": "code",
   "execution_count": 133,
   "metadata": {},
   "outputs": [
    {
     "data": {
      "text/html": [
       "<div>\n",
       "<style scoped>\n",
       "    .dataframe tbody tr th:only-of-type {\n",
       "        vertical-align: middle;\n",
       "    }\n",
       "\n",
       "    .dataframe tbody tr th {\n",
       "        vertical-align: top;\n",
       "    }\n",
       "\n",
       "    .dataframe thead th {\n",
       "        text-align: right;\n",
       "    }\n",
       "</style>\n",
       "<table border=\"1\" class=\"dataframe\">\n",
       "  <thead>\n",
       "    <tr style=\"text-align: right;\">\n",
       "      <th></th>\n",
       "      <th>oil_price</th>\n",
       "    </tr>\n",
       "    <tr>\n",
       "      <th>Date</th>\n",
       "      <th></th>\n",
       "    </tr>\n",
       "  </thead>\n",
       "  <tbody>\n",
       "    <tr>\n",
       "      <th>2003-01-02</th>\n",
       "      <td>30.05</td>\n",
       "    </tr>\n",
       "    <tr>\n",
       "      <th>2003-01-03</th>\n",
       "      <td>30.83</td>\n",
       "    </tr>\n",
       "    <tr>\n",
       "      <th>2003-01-06</th>\n",
       "      <td>30.71</td>\n",
       "    </tr>\n",
       "    <tr>\n",
       "      <th>2003-01-07</th>\n",
       "      <td>29.72</td>\n",
       "    </tr>\n",
       "    <tr>\n",
       "      <th>2003-01-08</th>\n",
       "      <td>28.86</td>\n",
       "    </tr>\n",
       "  </tbody>\n",
       "</table>\n",
       "</div>"
      ],
      "text/plain": [
       "            oil_price\n",
       "Date                 \n",
       "2003-01-02      30.05\n",
       "2003-01-03      30.83\n",
       "2003-01-06      30.71\n",
       "2003-01-07      29.72\n",
       "2003-01-08      28.86"
      ]
     },
     "execution_count": 133,
     "metadata": {},
     "output_type": "execute_result"
    }
   ],
   "source": [
    "oil_data.rename(columns={'Value': 'oil_price'}, inplace=True)\n",
    "oil_data.head()"
   ]
  },
  {
   "cell_type": "code",
   "execution_count": 134,
   "metadata": {},
   "outputs": [
    {
     "data": {
      "text/plain": [
       "Index(['oil_price'], dtype='object')"
      ]
     },
     "execution_count": 134,
     "metadata": {},
     "output_type": "execute_result"
    }
   ],
   "source": [
    "oil_data.columns"
   ]
  },
  {
   "cell_type": "code",
   "execution_count": 135,
   "metadata": {},
   "outputs": [
    {
     "data": {
      "image/png": "[encoded data removed]",
      "text/plain": [
       "<matplotlib.figure.Figure at 0x10936e780>"
      ]
     },
     "metadata": {},
     "output_type": "display_data"
    }
   ],
   "source": [
    "plt.plot(oil_data)\n",
    "plt.show()"
   ]
  },
  {
   "cell_type": "code",
   "execution_count": 136,
   "metadata": {},
   "outputs": [
    {
     "data": {
      "image/png": "[encoded data removed]",
      "text/plain": [
       "<matplotlib.figure.Figure at 0x11213d2e8>"
      ]
     },
     "metadata": {},
     "output_type": "display_data"
    }
   ],
   "source": [
    "#Only show the last year to match datasource given by Goldspot\n",
    "plt.plot(oil_data.loc['2018-05-31':])\n",
    "plt.show()"
   ]
  },
  {
   "attachments": {
    "chart_gold_quandl_zoom_kellys.png": {
     "image/png": "[encoded data removed]"
    }
   },
   "cell_type": "markdown",
   "metadata": {},
   "source": [
    "Note, the data pulled from the API is a larger dataset then the one I pulled from the URL provided for gold data, which shows it is the same data\n",
    "\n",
    "![chart_gold_quandl_zoom_kellys.png](attachment:chart_gold_quandl_zoom_kellys.png)"
   ]
  },
  {
   "cell_type": "markdown",
   "metadata": {},
   "source": [
    "## Merge Datasets"
   ]
  },
  {
   "cell_type": "code",
   "execution_count": 137,
   "metadata": {},
   "outputs": [
    {
     "name": "stdout",
     "output_type": "stream",
     "text": [
      "            gold_price\n",
      "Date                  \n",
      "1999-06-01      266.85\n",
      "1999-06-02      267.15\n",
      "1999-06-03      264.75\n",
      "1999-06-04      265.30\n",
      "1999-06-07      265.60\n",
      "Rows in this dataset: 5055\n",
      "\n",
      "\n",
      "                  gdp\n",
      "Date                 \n",
      "1999-07-01   9681.856\n",
      "1999-10-01   9899.378\n",
      "2000-01-01  10002.857\n",
      "2000-04-01  10247.679\n",
      "2000-07-01  10319.825\n",
      "Rows in this dataset: 79\n",
      "\n",
      "\n",
      "            unemploy_rate\n",
      "Date                     \n",
      "1999-06-30            4.3\n",
      "1999-07-31            4.3\n",
      "1999-08-31            4.2\n",
      "1999-09-30            4.2\n",
      "1999-10-31            4.1\n",
      "Rows in this dataset: 239\n",
      "\n",
      "\n",
      "            oil_price\n",
      "Date                 \n",
      "2003-01-02      30.05\n",
      "2003-01-03      30.83\n",
      "2003-01-06      30.71\n",
      "2003-01-07      29.72\n",
      "2003-01-08      28.86\n",
      "Rows in this dataset: 4234\n",
      "\n",
      "\n"
     ]
    }
   ],
   "source": [
    "#Check the date separation for each dataset\n",
    "dataset_list = [gold_data, gdp_data, unemploy_data, oil_data]\n",
    "\n",
    "for i in dataset_list:\n",
    "    print(i.head())\n",
    "    print('Rows in this dataset: {}'.format(len(i)))\n",
    "    print('\\n')"
   ]
  },
  {
   "cell_type": "markdown",
   "metadata": {},
   "source": [
    "Merge datasets using 'Outer' joins"
   ]
  },
  {
   "cell_type": "code",
   "execution_count": 138,
   "metadata": {
    "collapsed": true
   },
   "outputs": [],
   "source": [
    "all_datasets = gold_data.join(oil_data, how='outer')\n",
    "all_datasets = all_datasets.join(gdp_data, how='outer')\n",
    "all_datasets = all_datasets.join(unemploy_data, how='outer')"
   ]
  },
  {
   "cell_type": "code",
   "execution_count": 139,
   "metadata": {},
   "outputs": [
    {
     "data": {
      "text/html": [
       "<div>\n",
       "<style scoped>\n",
       "    .dataframe tbody tr th:only-of-type {\n",
       "        vertical-align: middle;\n",
       "    }\n",
       "\n",
       "    .dataframe tbody tr th {\n",
       "        vertical-align: top;\n",
       "    }\n",
       "\n",
       "    .dataframe thead th {\n",
       "        text-align: right;\n",
       "    }\n",
       "</style>\n",
       "<table border=\"1\" class=\"dataframe\">\n",
       "  <thead>\n",
       "    <tr style=\"text-align: right;\">\n",
       "      <th></th>\n",
       "      <th>gold_price</th>\n",
       "      <th>oil_price</th>\n",
       "      <th>gdp</th>\n",
       "      <th>unemploy_rate</th>\n",
       "    </tr>\n",
       "    <tr>\n",
       "      <th>Date</th>\n",
       "      <th></th>\n",
       "      <th></th>\n",
       "      <th></th>\n",
       "      <th></th>\n",
       "    </tr>\n",
       "  </thead>\n",
       "  <tbody>\n",
       "    <tr>\n",
       "      <th>1999-06-01</th>\n",
       "      <td>266.85</td>\n",
       "      <td>NaN</td>\n",
       "      <td>NaN</td>\n",
       "      <td>NaN</td>\n",
       "    </tr>\n",
       "    <tr>\n",
       "      <th>1999-06-02</th>\n",
       "      <td>267.15</td>\n",
       "      <td>NaN</td>\n",
       "      <td>NaN</td>\n",
       "      <td>NaN</td>\n",
       "    </tr>\n",
       "    <tr>\n",
       "      <th>1999-06-03</th>\n",
       "      <td>264.75</td>\n",
       "      <td>NaN</td>\n",
       "      <td>NaN</td>\n",
       "      <td>NaN</td>\n",
       "    </tr>\n",
       "    <tr>\n",
       "      <th>1999-06-04</th>\n",
       "      <td>265.30</td>\n",
       "      <td>NaN</td>\n",
       "      <td>NaN</td>\n",
       "      <td>NaN</td>\n",
       "    </tr>\n",
       "    <tr>\n",
       "      <th>1999-06-07</th>\n",
       "      <td>265.60</td>\n",
       "      <td>NaN</td>\n",
       "      <td>NaN</td>\n",
       "      <td>NaN</td>\n",
       "    </tr>\n",
       "    <tr>\n",
       "      <th>1999-06-08</th>\n",
       "      <td>262.35</td>\n",
       "      <td>NaN</td>\n",
       "      <td>NaN</td>\n",
       "      <td>NaN</td>\n",
       "    </tr>\n",
       "    <tr>\n",
       "      <th>1999-06-09</th>\n",
       "      <td>261.30</td>\n",
       "      <td>NaN</td>\n",
       "      <td>NaN</td>\n",
       "      <td>NaN</td>\n",
       "    </tr>\n",
       "    <tr>\n",
       "      <th>1999-06-10</th>\n",
       "      <td>258.60</td>\n",
       "      <td>NaN</td>\n",
       "      <td>NaN</td>\n",
       "      <td>NaN</td>\n",
       "    </tr>\n",
       "    <tr>\n",
       "      <th>1999-06-11</th>\n",
       "      <td>259.70</td>\n",
       "      <td>NaN</td>\n",
       "      <td>NaN</td>\n",
       "      <td>NaN</td>\n",
       "    </tr>\n",
       "    <tr>\n",
       "      <th>1999-06-14</th>\n",
       "      <td>260.35</td>\n",
       "      <td>NaN</td>\n",
       "      <td>NaN</td>\n",
       "      <td>NaN</td>\n",
       "    </tr>\n",
       "    <tr>\n",
       "      <th>1999-06-15</th>\n",
       "      <td>260.00</td>\n",
       "      <td>NaN</td>\n",
       "      <td>NaN</td>\n",
       "      <td>NaN</td>\n",
       "    </tr>\n",
       "    <tr>\n",
       "      <th>1999-06-16</th>\n",
       "      <td>258.70</td>\n",
       "      <td>NaN</td>\n",
       "      <td>NaN</td>\n",
       "      <td>NaN</td>\n",
       "    </tr>\n",
       "    <tr>\n",
       "      <th>1999-06-17</th>\n",
       "      <td>258.15</td>\n",
       "      <td>NaN</td>\n",
       "      <td>NaN</td>\n",
       "      <td>NaN</td>\n",
       "    </tr>\n",
       "    <tr>\n",
       "      <th>1999-06-18</th>\n",
       "      <td>258.95</td>\n",
       "      <td>NaN</td>\n",
       "      <td>NaN</td>\n",
       "      <td>NaN</td>\n",
       "    </tr>\n",
       "    <tr>\n",
       "      <th>1999-06-21</th>\n",
       "      <td>259.30</td>\n",
       "      <td>NaN</td>\n",
       "      <td>NaN</td>\n",
       "      <td>NaN</td>\n",
       "    </tr>\n",
       "    <tr>\n",
       "      <th>1999-06-22</th>\n",
       "      <td>258.55</td>\n",
       "      <td>NaN</td>\n",
       "      <td>NaN</td>\n",
       "      <td>NaN</td>\n",
       "    </tr>\n",
       "    <tr>\n",
       "      <th>1999-06-23</th>\n",
       "      <td>259.15</td>\n",
       "      <td>NaN</td>\n",
       "      <td>NaN</td>\n",
       "      <td>NaN</td>\n",
       "    </tr>\n",
       "    <tr>\n",
       "      <th>1999-06-24</th>\n",
       "      <td>260.15</td>\n",
       "      <td>NaN</td>\n",
       "      <td>NaN</td>\n",
       "      <td>NaN</td>\n",
       "    </tr>\n",
       "    <tr>\n",
       "      <th>1999-06-25</th>\n",
       "      <td>260.70</td>\n",
       "      <td>NaN</td>\n",
       "      <td>NaN</td>\n",
       "      <td>NaN</td>\n",
       "    </tr>\n",
       "    <tr>\n",
       "      <th>1999-06-28</th>\n",
       "      <td>260.30</td>\n",
       "      <td>NaN</td>\n",
       "      <td>NaN</td>\n",
       "      <td>NaN</td>\n",
       "    </tr>\n",
       "    <tr>\n",
       "      <th>1999-06-29</th>\n",
       "      <td>262.00</td>\n",
       "      <td>NaN</td>\n",
       "      <td>NaN</td>\n",
       "      <td>NaN</td>\n",
       "    </tr>\n",
       "    <tr>\n",
       "      <th>1999-06-30</th>\n",
       "      <td>261.00</td>\n",
       "      <td>NaN</td>\n",
       "      <td>NaN</td>\n",
       "      <td>4.3</td>\n",
       "    </tr>\n",
       "    <tr>\n",
       "      <th>1999-07-01</th>\n",
       "      <td>262.60</td>\n",
       "      <td>NaN</td>\n",
       "      <td>9681.856</td>\n",
       "      <td>4.3</td>\n",
       "    </tr>\n",
       "    <tr>\n",
       "      <th>1999-07-02</th>\n",
       "      <td>263.10</td>\n",
       "      <td>NaN</td>\n",
       "      <td>9681.856</td>\n",
       "      <td>4.3</td>\n",
       "    </tr>\n",
       "    <tr>\n",
       "      <th>1999-07-05</th>\n",
       "      <td>261.80</td>\n",
       "      <td>NaN</td>\n",
       "      <td>9681.856</td>\n",
       "      <td>4.3</td>\n",
       "    </tr>\n",
       "    <tr>\n",
       "      <th>1999-07-06</th>\n",
       "      <td>257.60</td>\n",
       "      <td>NaN</td>\n",
       "      <td>9681.856</td>\n",
       "      <td>4.3</td>\n",
       "    </tr>\n",
       "    <tr>\n",
       "      <th>1999-07-07</th>\n",
       "      <td>257.10</td>\n",
       "      <td>NaN</td>\n",
       "      <td>9681.856</td>\n",
       "      <td>4.3</td>\n",
       "    </tr>\n",
       "    <tr>\n",
       "      <th>1999-07-08</th>\n",
       "      <td>257.20</td>\n",
       "      <td>NaN</td>\n",
       "      <td>9681.856</td>\n",
       "      <td>4.3</td>\n",
       "    </tr>\n",
       "    <tr>\n",
       "      <th>1999-07-09</th>\n",
       "      <td>257.30</td>\n",
       "      <td>NaN</td>\n",
       "      <td>9681.856</td>\n",
       "      <td>4.3</td>\n",
       "    </tr>\n",
       "    <tr>\n",
       "      <th>1999-07-12</th>\n",
       "      <td>256.00</td>\n",
       "      <td>NaN</td>\n",
       "      <td>9681.856</td>\n",
       "      <td>4.3</td>\n",
       "    </tr>\n",
       "    <tr>\n",
       "      <th>...</th>\n",
       "      <td>...</td>\n",
       "      <td>...</td>\n",
       "      <td>...</td>\n",
       "      <td>...</td>\n",
       "    </tr>\n",
       "    <tr>\n",
       "      <th>2019-04-22</th>\n",
       "      <td>1275.70</td>\n",
       "      <td>72.44</td>\n",
       "      <td>21048.839</td>\n",
       "      <td>3.8</td>\n",
       "    </tr>\n",
       "    <tr>\n",
       "      <th>2019-04-23</th>\n",
       "      <td>1269.50</td>\n",
       "      <td>73.37</td>\n",
       "      <td>21048.839</td>\n",
       "      <td>3.8</td>\n",
       "    </tr>\n",
       "    <tr>\n",
       "      <th>2019-04-24</th>\n",
       "      <td>1271.65</td>\n",
       "      <td>73.43</td>\n",
       "      <td>21048.839</td>\n",
       "      <td>3.8</td>\n",
       "    </tr>\n",
       "    <tr>\n",
       "      <th>2019-04-25</th>\n",
       "      <td>1280.80</td>\n",
       "      <td>74.04</td>\n",
       "      <td>21048.839</td>\n",
       "      <td>3.8</td>\n",
       "    </tr>\n",
       "    <tr>\n",
       "      <th>2019-04-26</th>\n",
       "      <td>1284.20</td>\n",
       "      <td>72.38</td>\n",
       "      <td>21048.839</td>\n",
       "      <td>3.8</td>\n",
       "    </tr>\n",
       "    <tr>\n",
       "      <th>2019-04-29</th>\n",
       "      <td>1279.50</td>\n",
       "      <td>71.07</td>\n",
       "      <td>21048.839</td>\n",
       "      <td>3.8</td>\n",
       "    </tr>\n",
       "    <tr>\n",
       "      <th>2019-04-30</th>\n",
       "      <td>1282.30</td>\n",
       "      <td>71.91</td>\n",
       "      <td>21048.839</td>\n",
       "      <td>3.6</td>\n",
       "    </tr>\n",
       "    <tr>\n",
       "      <th>2019-05-01</th>\n",
       "      <td>1283.80</td>\n",
       "      <td>72.00</td>\n",
       "      <td>21048.839</td>\n",
       "      <td>3.6</td>\n",
       "    </tr>\n",
       "    <tr>\n",
       "      <th>2019-05-02</th>\n",
       "      <td>1270.95</td>\n",
       "      <td>70.98</td>\n",
       "      <td>21048.839</td>\n",
       "      <td>3.6</td>\n",
       "    </tr>\n",
       "    <tr>\n",
       "      <th>2019-05-03</th>\n",
       "      <td>1278.55</td>\n",
       "      <td>70.61</td>\n",
       "      <td>21048.839</td>\n",
       "      <td>3.6</td>\n",
       "    </tr>\n",
       "    <tr>\n",
       "      <th>2019-05-06</th>\n",
       "      <td>1278.55</td>\n",
       "      <td>70.23</td>\n",
       "      <td>21048.839</td>\n",
       "      <td>3.6</td>\n",
       "    </tr>\n",
       "    <tr>\n",
       "      <th>2019-05-07</th>\n",
       "      <td>1281.20</td>\n",
       "      <td>70.45</td>\n",
       "      <td>21048.839</td>\n",
       "      <td>3.6</td>\n",
       "    </tr>\n",
       "    <tr>\n",
       "      <th>2019-05-08</th>\n",
       "      <td>1285.20</td>\n",
       "      <td>69.88</td>\n",
       "      <td>21048.839</td>\n",
       "      <td>3.6</td>\n",
       "    </tr>\n",
       "    <tr>\n",
       "      <th>2019-05-09</th>\n",
       "      <td>1286.10</td>\n",
       "      <td>69.66</td>\n",
       "      <td>21048.839</td>\n",
       "      <td>3.6</td>\n",
       "    </tr>\n",
       "    <tr>\n",
       "      <th>2019-05-10</th>\n",
       "      <td>1287.10</td>\n",
       "      <td>70.66</td>\n",
       "      <td>21048.839</td>\n",
       "      <td>3.6</td>\n",
       "    </tr>\n",
       "    <tr>\n",
       "      <th>2019-05-13</th>\n",
       "      <td>1295.60</td>\n",
       "      <td>71.21</td>\n",
       "      <td>21048.839</td>\n",
       "      <td>3.6</td>\n",
       "    </tr>\n",
       "    <tr>\n",
       "      <th>2019-05-14</th>\n",
       "      <td>1298.40</td>\n",
       "      <td>70.66</td>\n",
       "      <td>21048.839</td>\n",
       "      <td>3.6</td>\n",
       "    </tr>\n",
       "    <tr>\n",
       "      <th>2019-05-15</th>\n",
       "      <td>1299.10</td>\n",
       "      <td>71.26</td>\n",
       "      <td>21048.839</td>\n",
       "      <td>3.6</td>\n",
       "    </tr>\n",
       "    <tr>\n",
       "      <th>2019-05-16</th>\n",
       "      <td>1291.70</td>\n",
       "      <td>72.61</td>\n",
       "      <td>21048.839</td>\n",
       "      <td>3.6</td>\n",
       "    </tr>\n",
       "    <tr>\n",
       "      <th>2019-05-17</th>\n",
       "      <td>1280.80</td>\n",
       "      <td>72.57</td>\n",
       "      <td>21048.839</td>\n",
       "      <td>3.6</td>\n",
       "    </tr>\n",
       "    <tr>\n",
       "      <th>2019-05-20</th>\n",
       "      <td>1276.85</td>\n",
       "      <td>72.47</td>\n",
       "      <td>21048.839</td>\n",
       "      <td>3.6</td>\n",
       "    </tr>\n",
       "    <tr>\n",
       "      <th>2019-05-21</th>\n",
       "      <td>1271.15</td>\n",
       "      <td>71.71</td>\n",
       "      <td>21048.839</td>\n",
       "      <td>3.6</td>\n",
       "    </tr>\n",
       "    <tr>\n",
       "      <th>2019-05-22</th>\n",
       "      <td>1273.80</td>\n",
       "      <td>71.03</td>\n",
       "      <td>21048.839</td>\n",
       "      <td>3.6</td>\n",
       "    </tr>\n",
       "    <tr>\n",
       "      <th>2019-05-23</th>\n",
       "      <td>1283.65</td>\n",
       "      <td>68.56</td>\n",
       "      <td>21048.839</td>\n",
       "      <td>3.6</td>\n",
       "    </tr>\n",
       "    <tr>\n",
       "      <th>2019-05-24</th>\n",
       "      <td>1282.50</td>\n",
       "      <td>67.40</td>\n",
       "      <td>21048.839</td>\n",
       "      <td>3.6</td>\n",
       "    </tr>\n",
       "    <tr>\n",
       "      <th>2019-05-27</th>\n",
       "      <td>1282.50</td>\n",
       "      <td>67.42</td>\n",
       "      <td>21048.839</td>\n",
       "      <td>3.6</td>\n",
       "    </tr>\n",
       "    <tr>\n",
       "      <th>2019-05-28</th>\n",
       "      <td>1278.30</td>\n",
       "      <td>68.84</td>\n",
       "      <td>21048.839</td>\n",
       "      <td>3.6</td>\n",
       "    </tr>\n",
       "    <tr>\n",
       "      <th>2019-05-29</th>\n",
       "      <td>1281.65</td>\n",
       "      <td>67.75</td>\n",
       "      <td>21048.839</td>\n",
       "      <td>3.6</td>\n",
       "    </tr>\n",
       "    <tr>\n",
       "      <th>2019-05-30</th>\n",
       "      <td>1280.95</td>\n",
       "      <td>67.10</td>\n",
       "      <td>21048.839</td>\n",
       "      <td>3.6</td>\n",
       "    </tr>\n",
       "    <tr>\n",
       "      <th>2019-05-31</th>\n",
       "      <td>1295.55</td>\n",
       "      <td>64.15</td>\n",
       "      <td>21048.839</td>\n",
       "      <td>3.6</td>\n",
       "    </tr>\n",
       "  </tbody>\n",
       "</table>\n",
       "<p>5252 rows × 4 columns</p>\n",
       "</div>"
      ],
      "text/plain": [
       "            gold_price  oil_price        gdp  unemploy_rate\n",
       "Date                                                       \n",
       "1999-06-01      266.85        NaN        NaN            NaN\n",
       "1999-06-02      267.15        NaN        NaN            NaN\n",
       "1999-06-03      264.75        NaN        NaN            NaN\n",
       "1999-06-04      265.30        NaN        NaN            NaN\n",
       "1999-06-07      265.60        NaN        NaN            NaN\n",
       "1999-06-08      262.35        NaN        NaN            NaN\n",
       "1999-06-09      261.30        NaN        NaN            NaN\n",
       "1999-06-10      258.60        NaN        NaN            NaN\n",
       "1999-06-11      259.70        NaN        NaN            NaN\n",
       "1999-06-14      260.35        NaN        NaN            NaN\n",
       "1999-06-15      260.00        NaN        NaN            NaN\n",
       "1999-06-16      258.70        NaN        NaN            NaN\n",
       "1999-06-17      258.15        NaN        NaN            NaN\n",
       "1999-06-18      258.95        NaN        NaN            NaN\n",
       "1999-06-21      259.30        NaN        NaN            NaN\n",
       "1999-06-22      258.55        NaN        NaN            NaN\n",
       "1999-06-23      259.15        NaN        NaN            NaN\n",
       "1999-06-24      260.15        NaN        NaN            NaN\n",
       "1999-06-25      260.70        NaN        NaN            NaN\n",
       "1999-06-28      260.30        NaN        NaN            NaN\n",
       "1999-06-29      262.00        NaN        NaN            NaN\n",
       "1999-06-30      261.00        NaN        NaN            4.3\n",
       "1999-07-01      262.60        NaN   9681.856            4.3\n",
       "1999-07-02      263.10        NaN   9681.856            4.3\n",
       "1999-07-05      261.80        NaN   9681.856            4.3\n",
       "1999-07-06      257.60        NaN   9681.856            4.3\n",
       "1999-07-07      257.10        NaN   9681.856            4.3\n",
       "1999-07-08      257.20        NaN   9681.856            4.3\n",
       "1999-07-09      257.30        NaN   9681.856            4.3\n",
       "1999-07-12      256.00        NaN   9681.856            4.3\n",
       "...                ...        ...        ...            ...\n",
       "2019-04-22     1275.70      72.44  21048.839            3.8\n",
       "2019-04-23     1269.50      73.37  21048.839            3.8\n",
       "2019-04-24     1271.65      73.43  21048.839            3.8\n",
       "2019-04-25     1280.80      74.04  21048.839            3.8\n",
       "2019-04-26     1284.20      72.38  21048.839            3.8\n",
       "2019-04-29     1279.50      71.07  21048.839            3.8\n",
       "2019-04-30     1282.30      71.91  21048.839            3.6\n",
       "2019-05-01     1283.80      72.00  21048.839            3.6\n",
       "2019-05-02     1270.95      70.98  21048.839            3.6\n",
       "2019-05-03     1278.55      70.61  21048.839            3.6\n",
       "2019-05-06     1278.55      70.23  21048.839            3.6\n",
       "2019-05-07     1281.20      70.45  21048.839            3.6\n",
       "2019-05-08     1285.20      69.88  21048.839            3.6\n",
       "2019-05-09     1286.10      69.66  21048.839            3.6\n",
       "2019-05-10     1287.10      70.66  21048.839            3.6\n",
       "2019-05-13     1295.60      71.21  21048.839            3.6\n",
       "2019-05-14     1298.40      70.66  21048.839            3.6\n",
       "2019-05-15     1299.10      71.26  21048.839            3.6\n",
       "2019-05-16     1291.70      72.61  21048.839            3.6\n",
       "2019-05-17     1280.80      72.57  21048.839            3.6\n",
       "2019-05-20     1276.85      72.47  21048.839            3.6\n",
       "2019-05-21     1271.15      71.71  21048.839            3.6\n",
       "2019-05-22     1273.80      71.03  21048.839            3.6\n",
       "2019-05-23     1283.65      68.56  21048.839            3.6\n",
       "2019-05-24     1282.50      67.40  21048.839            3.6\n",
       "2019-05-27     1282.50      67.42  21048.839            3.6\n",
       "2019-05-28     1278.30      68.84  21048.839            3.6\n",
       "2019-05-29     1281.65      67.75  21048.839            3.6\n",
       "2019-05-30     1280.95      67.10  21048.839            3.6\n",
       "2019-05-31     1295.55      64.15  21048.839            3.6\n",
       "\n",
       "[5252 rows x 4 columns]"
      ]
     },
     "execution_count": 139,
     "metadata": {},
     "output_type": "execute_result"
    }
   ],
   "source": [
    "all_datasets\n",
    "all_datasets.fillna(method='ffill', inplace=True)\n",
    "all_datasets"
   ]
  },
  {
   "cell_type": "markdown",
   "metadata": {},
   "source": [
    "We lose a lot of perspective when we plot all lines on the same chart."
   ]
  },
  {
   "cell_type": "code",
   "execution_count": 145,
   "metadata": {},
   "outputs": [
    {
     "data": {
      "image/png": "[encoded data removed]",
      "text/plain": [
       "<matplotlib.figure.Figure at 0x109def358>"
      ]
     },
     "metadata": {},
     "output_type": "display_data"
    }
   ],
   "source": [
    "plt.plot(all_datasets)\n",
    "plt.legend()\n",
    "plt.show()"
   ]
  },
  {
   "cell_type": "markdown",
   "metadata": {},
   "source": [
    "Let;s see if we can do better by normalizing the data so they are all in the same range."
   ]
  },
  {
   "cell_type": "code",
   "execution_count": 140,
   "metadata": {},
   "outputs": [
    {
     "data": {
      "text/plain": [
       "Index(['gold_price', 'oil_price', 'gdp', 'unemploy_rate'], dtype='object')"
      ]
     },
     "execution_count": 140,
     "metadata": {},
     "output_type": "execute_result"
    }
   ],
   "source": [
    "all_datasets.columns"
   ]
  },
  {
   "cell_type": "code",
   "execution_count": 141,
   "metadata": {},
   "outputs": [
    {
     "data": {
      "image/png": "[encoded data removed]",
      "text/plain": [
       "<matplotlib.figure.Figure at 0x1127850f0>"
      ]
     },
     "metadata": {},
     "output_type": "display_data"
    }
   ],
   "source": [
    "import warnings\n",
    "warnings.filterwarnings(\"ignore\")\n",
    "\n",
    "#Multiple line plot after normalizing the data for each column\n",
    "\n",
    "# Data normalized\n",
    "df=pd.DataFrame({'x': all_datasets.index, \n",
    "                 'y1': all_datasets['gold_price']/all_datasets['gold_price'].mean(), \n",
    "                 'y2': all_datasets['oil_price']/all_datasets['oil_price'].mean(),\n",
    "                 'y3': all_datasets['gdp']/all_datasets['gdp'].mean(), \n",
    "                 'y4': all_datasets['unemploy_rate']/all_datasets['unemploy_rate'].mean(), })\n",
    "\n",
    "# multiple line plot parameters\n",
    "plt.plot( 'x', 'y1', data=df, marker='', color='skyblue', linewidth=1,label=\"Gold\")\n",
    "plt.plot( 'x', 'y2', data=df, marker='', color='black', linewidth=2, label=\"Oil\")\n",
    "plt.plot( 'x', 'y3', data=df, marker='', color='red', linewidth=2, linestyle='dashed', label=\"GDP\")\n",
    "plt.plot( 'x', 'y4', data=df, marker='', color='green', linewidth=2, linestyle='dashed', label=\"unemploy\")\n",
    "\n",
    "plt.ylim((0, 3))\n",
    "plt.legend()\n",
    "\n",
    "plt.show()"
   ]
  },
  {
   "cell_type": "markdown",
   "metadata": {},
   "source": [
    "The data seems to have alot of NA's due to the different time durations, especially from monthly(Unemployment) and quarterly (GDP)"
   ]
  },
  {
   "cell_type": "markdown",
   "metadata": {},
   "source": [
    "Need to know before cleaning how the data will be used and viewed. Will it be used in a machine learning supervised method or will it be viewed visually, ie. something similar to stacking the graphs on top of each other."
   ]
  },
  {
   "cell_type": "markdown",
   "metadata": {},
   "source": [
    "## Dealing with Time Series"
   ]
  },
  {
   "cell_type": "markdown",
   "metadata": {
    "collapsed": true
   },
   "source": [
    "Let's resample the time series data on a 'quarterly' bases."
   ]
  },
  {
   "cell_type": "code",
   "execution_count": 142,
   "metadata": {},
   "outputs": [
    {
     "data": {
      "text/html": [
       "<div>\n",
       "<style scoped>\n",
       "    .dataframe tbody tr th:only-of-type {\n",
       "        vertical-align: middle;\n",
       "    }\n",
       "\n",
       "    .dataframe tbody tr th {\n",
       "        vertical-align: top;\n",
       "    }\n",
       "\n",
       "    .dataframe thead th {\n",
       "        text-align: right;\n",
       "    }\n",
       "</style>\n",
       "<table border=\"1\" class=\"dataframe\">\n",
       "  <thead>\n",
       "    <tr style=\"text-align: right;\">\n",
       "      <th></th>\n",
       "      <th>oil_price</th>\n",
       "    </tr>\n",
       "    <tr>\n",
       "      <th>Date</th>\n",
       "      <th></th>\n",
       "    </tr>\n",
       "  </thead>\n",
       "  <tbody>\n",
       "    <tr>\n",
       "      <th>2003-03-31</th>\n",
       "      <td>33.11</td>\n",
       "    </tr>\n",
       "    <tr>\n",
       "      <th>2003-06-30</th>\n",
       "      <td>27.86</td>\n",
       "    </tr>\n",
       "    <tr>\n",
       "      <th>2003-09-30</th>\n",
       "      <td>29.22</td>\n",
       "    </tr>\n",
       "    <tr>\n",
       "      <th>2003-12-31</th>\n",
       "      <td>30.73</td>\n",
       "    </tr>\n",
       "    <tr>\n",
       "      <th>2004-03-31</th>\n",
       "      <td>33.03</td>\n",
       "    </tr>\n",
       "  </tbody>\n",
       "</table>\n",
       "</div>"
      ],
      "text/plain": [
       "            oil_price\n",
       "Date                 \n",
       "2003-03-31      33.11\n",
       "2003-06-30      27.86\n",
       "2003-09-30      29.22\n",
       "2003-12-31      30.73\n",
       "2004-03-31      33.03"
      ]
     },
     "execution_count": 142,
     "metadata": {},
     "output_type": "execute_result"
    }
   ],
   "source": [
    "oil_data_q = pd.DataFrame(oil_data['oil_price'].resample('Q').max())\n",
    "oil_data_q.head()"
   ]
  },
  {
   "cell_type": "markdown",
   "metadata": {},
   "source": [
    "Note, the choosen to represent this aggregation is the last day of the particular month but this might not mesh with other 'quarterly' datasources, ie. 'GDP'"
   ]
  },
  {
   "attachments": {
    "quandl_data_oil-gdp_quarterly_diff_aggreg.png": {
     "image/png": "[encoded data removed]"
    }
   },
   "cell_type": "markdown",
   "metadata": {},
   "source": [
    "![quandl_data_oil-gdp_quarterly_diff_aggreg.png](attachment:quandl_data_oil-gdp_quarterly_diff_aggreg.png)"
   ]
  },
  {
   "cell_type": "markdown",
   "metadata": {},
   "source": [
    "Will need to discuss:\n",
    "\n",
    "- The time resampling rate before proceeding\n",
    "- What interval is needed for analysis downstream\n",
    "- How to handle missing values"
   ]
  },
  {
   "cell_type": "code",
   "execution_count": null,
   "metadata": {
    "collapsed": true
   },
   "outputs": [],
   "source": []
  }
 ],
 "metadata": {
  "kernelspec": {
   "display_name": "Python [default]",
   "language": "python",
   "name": "python3"
  },
  "language_info": {
   "codemirror_mode": {
    "name": "ipython",
    "version": 3
   },
   "file_extension": ".py",
   "mimetype": "text/x-python",
   "name": "python",
   "nbconvert_exporter": "python",
   "pygments_lexer": "ipython3",
   "version": "3.6.4"
  }
 },
 "nbformat": 4,
 "nbformat_minor": 2
}
